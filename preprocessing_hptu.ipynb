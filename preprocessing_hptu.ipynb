{
 "cells": [
  {
   "cell_type": "code",
   "execution_count": 19,
   "metadata": {},
   "outputs": [],
   "source": [
    "import pandas as pd"
   ]
  },
  {
   "cell_type": "code",
   "execution_count": 20,
   "metadata": {},
   "outputs": [
    {
     "data": {
      "text/html": [
       "<div>\n",
       "<style scoped>\n",
       "    .dataframe tbody tr th:only-of-type {\n",
       "        vertical-align: middle;\n",
       "    }\n",
       "\n",
       "    .dataframe tbody tr th {\n",
       "        vertical-align: top;\n",
       "    }\n",
       "\n",
       "    .dataframe thead th {\n",
       "        text-align: right;\n",
       "    }\n",
       "</style>\n",
       "<table border=\"1\" class=\"dataframe\">\n",
       "  <thead>\n",
       "    <tr style=\"text-align: right;\">\n",
       "      <th></th>\n",
       "      <th>identificadorunico</th>\n",
       "      <th>examenactividad</th>\n",
       "      <th>dosis</th>\n",
       "      <th>unidad</th>\n",
       "      <th>nombre_unidad</th>\n",
       "      <th>duracion</th>\n",
       "      <th>frecuencia</th>\n",
       "      <th>genero</th>\n",
       "      <th>edad</th>\n",
       "    </tr>\n",
       "  </thead>\n",
       "  <tbody>\n",
       "    <tr>\n",
       "      <th>0</th>\n",
       "      <td>728329</td>\n",
       "      <td>Dipirona sódica 1 g/2 mL Solución inyectable A...</td>\n",
       "      <td>1.0</td>\n",
       "      <td>g</td>\n",
       "      <td>gramos</td>\n",
       "      <td>1.0</td>\n",
       "      <td>De rescate</td>\n",
       "      <td>F</td>\n",
       "      <td>50</td>\n",
       "    </tr>\n",
       "    <tr>\n",
       "      <th>1</th>\n",
       "      <td>1391631</td>\n",
       "      <td>Dipirona sódica 1 g/2 mL Solución inyectable A...</td>\n",
       "      <td>2.0</td>\n",
       "      <td>g</td>\n",
       "      <td>gramos</td>\n",
       "      <td>3.0</td>\n",
       "      <td>Cada 8 horas</td>\n",
       "      <td>F</td>\n",
       "      <td>52</td>\n",
       "    </tr>\n",
       "    <tr>\n",
       "      <th>2</th>\n",
       "      <td>1391668</td>\n",
       "      <td>Dipirona sódica 1 g/2 mL Solución inyectable A...</td>\n",
       "      <td>1.0</td>\n",
       "      <td>g</td>\n",
       "      <td>gramos</td>\n",
       "      <td>1.0</td>\n",
       "      <td>Dosis única</td>\n",
       "      <td>F</td>\n",
       "      <td>10</td>\n",
       "    </tr>\n",
       "  </tbody>\n",
       "</table>\n",
       "</div>"
      ],
      "text/plain": [
       "   identificadorunico                                    examenactividad  \\\n",
       "0              728329  Dipirona sódica 1 g/2 mL Solución inyectable A...   \n",
       "1             1391631  Dipirona sódica 1 g/2 mL Solución inyectable A...   \n",
       "2             1391668  Dipirona sódica 1 g/2 mL Solución inyectable A...   \n",
       "\n",
       "   dosis unidad nombre_unidad  duracion    frecuencia genero  edad  \n",
       "0    1.0      g        gramos       1.0   De rescate       F    50  \n",
       "1    2.0      g        gramos       3.0  Cada 8 horas      F    52  \n",
       "2    1.0      g        gramos       1.0   Dosis única      F    10  "
      ]
     },
     "execution_count": 20,
     "metadata": {},
     "output_type": "execute_result"
    }
   ],
   "source": [
    "# Carga de datos\n",
    "archivo='data/prescriptions_hptu.csv'\n",
    "data=pd.read_csv(archivo, encoding='ansi')\n",
    "data.head(3)"
   ]
  },
  {
   "cell_type": "code",
   "execution_count": 21,
   "metadata": {},
   "outputs": [
    {
     "name": "stdout",
     "output_type": "stream",
     "text": [
      "<class 'pandas.core.frame.DataFrame'>\n",
      "RangeIndex: 87207 entries, 0 to 87206\n",
      "Data columns (total 9 columns):\n",
      " #   Column              Non-Null Count  Dtype  \n",
      "---  ------              --------------  -----  \n",
      " 0   identificadorunico  87207 non-null  int64  \n",
      " 1   examenactividad     87207 non-null  object \n",
      " 2   dosis               87207 non-null  float64\n",
      " 3   unidad              87207 non-null  object \n",
      " 4   nombre_unidad       87207 non-null  object \n",
      " 5   duracion            87207 non-null  float64\n",
      " 6   frecuencia          87207 non-null  object \n",
      " 7   genero              87207 non-null  object \n",
      " 8   edad                87207 non-null  int64  \n",
      "dtypes: float64(2), int64(2), object(5)\n",
      "memory usage: 6.0+ MB\n"
     ]
    }
   ],
   "source": [
    "data.info()"
   ]
  },
  {
   "cell_type": "code",
   "execution_count": 22,
   "metadata": {},
   "outputs": [
    {
     "data": {
      "text/plain": [
       "examenactividad\n",
       "Dipirona sódica 1 g/2 mL Solución inyectable Ampolla    48437\n",
       "Acetaminofen 500 mg Tableta                             25451\n",
       "Morfina 10 mg/1 mL Solucion inyectable Ampolla           9975\n",
       "Vancomicina 500 mg Polvo para reconstituir Vial          3344\n",
       "Name: count, dtype: int64"
      ]
     },
     "execution_count": 22,
     "metadata": {},
     "output_type": "execute_result"
    }
   ],
   "source": [
    "# Validación de cantidades\n",
    "data['examenactividad'].value_counts()"
   ]
  },
  {
   "cell_type": "code",
   "execution_count": 24,
   "metadata": {},
   "outputs": [],
   "source": [
    "# Elimino los datos para edades menores  a 18 años\n",
    "data.drop(data[data['edad']<18].index,inplace=True)"
   ]
  },
  {
   "cell_type": "code",
   "execution_count": 25,
   "metadata": {},
   "outputs": [
    {
     "name": "stdout",
     "output_type": "stream",
     "text": [
      "<class 'pandas.core.frame.DataFrame'>\n",
      "Index: 73123 entries, 0 to 87204\n",
      "Data columns (total 9 columns):\n",
      " #   Column              Non-Null Count  Dtype  \n",
      "---  ------              --------------  -----  \n",
      " 0   identificadorunico  73123 non-null  int64  \n",
      " 1   examenactividad     73123 non-null  object \n",
      " 2   dosis               73123 non-null  float64\n",
      " 3   unidad              73123 non-null  object \n",
      " 4   nombre_unidad       73123 non-null  object \n",
      " 5   duracion            73123 non-null  float64\n",
      " 6   frecuencia          73123 non-null  object \n",
      " 7   genero              73123 non-null  object \n",
      " 8   edad                73123 non-null  int64  \n",
      "dtypes: float64(2), int64(2), object(5)\n",
      "memory usage: 5.6+ MB\n"
     ]
    }
   ],
   "source": [
    "data.info()"
   ]
  },
  {
   "cell_type": "code",
   "execution_count": 26,
   "metadata": {},
   "outputs": [
    {
     "data": {
      "text/html": [
       "<div>\n",
       "<style scoped>\n",
       "    .dataframe tbody tr th:only-of-type {\n",
       "        vertical-align: middle;\n",
       "    }\n",
       "\n",
       "    .dataframe tbody tr th {\n",
       "        vertical-align: top;\n",
       "    }\n",
       "\n",
       "    .dataframe thead th {\n",
       "        text-align: right;\n",
       "    }\n",
       "</style>\n",
       "<table border=\"1\" class=\"dataframe\">\n",
       "  <thead>\n",
       "    <tr style=\"text-align: right;\">\n",
       "      <th></th>\n",
       "      <th></th>\n",
       "    </tr>\n",
       "    <tr>\n",
       "      <th>examenactividad</th>\n",
       "      <th>unidad</th>\n",
       "    </tr>\n",
       "  </thead>\n",
       "  <tbody>\n",
       "    <tr>\n",
       "      <th rowspan=\"3\" valign=\"top\">Acetaminofen 500 mg Tableta</th>\n",
       "      <th>g</th>\n",
       "    </tr>\n",
       "    <tr>\n",
       "      <th>mg</th>\n",
       "    </tr>\n",
       "    <tr>\n",
       "      <th>ta</th>\n",
       "    </tr>\n",
       "    <tr>\n",
       "      <th rowspan=\"3\" valign=\"top\">Dipirona sódica 1 g/2 mL Solución inyectable Ampolla</th>\n",
       "      <th>am</th>\n",
       "    </tr>\n",
       "    <tr>\n",
       "      <th>g</th>\n",
       "    </tr>\n",
       "    <tr>\n",
       "      <th>mg</th>\n",
       "    </tr>\n",
       "    <tr>\n",
       "      <th>Morfina 10 mg/1 mL Solucion inyectable Ampolla</th>\n",
       "      <th>mg</th>\n",
       "    </tr>\n",
       "    <tr>\n",
       "      <th rowspan=\"2\" valign=\"top\">Vancomicina 500 mg Polvo para reconstituir Vial</th>\n",
       "      <th>g</th>\n",
       "    </tr>\n",
       "    <tr>\n",
       "      <th>mg</th>\n",
       "    </tr>\n",
       "  </tbody>\n",
       "</table>\n",
       "</div>"
      ],
      "text/plain": [
       "Empty DataFrame\n",
       "Columns: []\n",
       "Index: [(Acetaminofen 500 mg Tableta, g), (Acetaminofen 500 mg Tableta, mg), (Acetaminofen 500 mg Tableta, ta), (Dipirona sódica 1 g/2 mL Solución inyectable Ampolla, am), (Dipirona sódica 1 g/2 mL Solución inyectable Ampolla, g), (Dipirona sódica 1 g/2 mL Solución inyectable Ampolla, mg), (Morfina 10 mg/1 mL Solucion inyectable Ampolla, mg), (Vancomicina 500 mg Polvo para reconstituir Vial, g), (Vancomicina 500 mg Polvo para reconstituir Vial, mg)]"
      ]
     },
     "execution_count": 26,
     "metadata": {},
     "output_type": "execute_result"
    }
   ],
   "source": [
    "# Identifico las diferentes unidades en las que se formularon los Medicamentos \n",
    "data[['examenactividad','unidad']].groupby(['examenactividad','unidad']).count()"
   ]
  },
  {
   "cell_type": "code",
   "execution_count": 27,
   "metadata": {},
   "outputs": [],
   "source": [
    "# Copio columna dosis y la dejo como dosis original\n",
    "data['dosisOriginal']=data['dosis']"
   ]
  },
  {
   "cell_type": "code",
   "execution_count": 28,
   "metadata": {},
   "outputs": [],
   "source": [
    "# Convierto dosis que estan en gramos (g) a miligramos\n",
    "data.loc[data['unidad']=='g','dosis']=data['dosis']*1000"
   ]
  },
  {
   "cell_type": "code",
   "execution_count": 29,
   "metadata": {},
   "outputs": [],
   "source": [
    "# Convierto dosis que estan en tabletas (ta) a miligramos\n",
    "data.loc[data['unidad']=='ta','dosis']=data['dosis']*500"
   ]
  },
  {
   "cell_type": "code",
   "execution_count": 30,
   "metadata": {},
   "outputs": [],
   "source": [
    "# Convierto dosis que estan en ampollas (am) a miligramos\n",
    "data.loc[(data['unidad']=='am') &  (data['examenactividad']=='Dipirona sódica 1 g/2 mL Solución inyectable Ampolla'),\n",
    "         'dosis']=data['dosis']*1000"
   ]
  },
  {
   "cell_type": "code",
   "execution_count": 32,
   "metadata": {},
   "outputs": [
    {
     "data": {
      "text/plain": [
       "frecuencia\n",
       "Cada 8 horas                                     26222\n",
       "Dosis única                                      25835\n",
       "De rescate                                       10939\n",
       "Cada 6 horas                                      7575\n",
       "Cada 12 horas                                     1214\n",
       "Sin Frecuencia                                     558\n",
       "Cada 4 horas                                       500\n",
       "Cada 24 horas                                      144\n",
       "Cada 48 horas                                       52\n",
       "Cada noche (21:00)                                  11\n",
       "9:00 - 15:00 y 21:00                                 7\n",
       "8:00 - 16:00 y 24:00                                 6\n",
       "3 veces al día (8:00 - 15:00 - 22:00)                6\n",
       "6:00 - 12:00 - 18:00 y 24:00                         6\n",
       "Cada 72 horas                                        5\n",
       "7:00 - 12:00 - 17:00 y 22:00                         4\n",
       "Con cada comida (8:00 - 12:30 - 18:00)               4\n",
       "5 veces al día (6:00-10:00-14:00-18:00-22:00)        3\n",
       "6:00 - 12:00 y 18:00                                 3\n",
       "Dosis única (17:00)                                  3\n",
       "Cada 4 días                                          3\n",
       "Interdiaria                                          3\n",
       "8:00 y 14:00                                         2\n",
       "Cada 5 horas                                         2\n",
       "8:00 - 12:00 y 16:00                                 2\n",
       "6:00, 14:00 y 22:00                                  2\n",
       "Quincenal                                            2\n",
       "30 minutos antes del desayuno                        1\n",
       "2 horas después de cada comida                       1\n",
       "Cada tarde (17:00)                                   1\n",
       "Cada 15 minutos                                      1\n",
       "Cada 3 horas                                         1\n",
       "Cada 5 minutos                                       1\n",
       "Semanal                                              1\n",
       "3 veces a la semana                                  1\n",
       "En ayunas (5:00)                                     1\n",
       "7:30 y 17:30                                         1\n",
       "Name: count, dtype: int64"
      ]
     },
     "execution_count": 32,
     "metadata": {},
     "output_type": "execute_result"
    }
   ],
   "source": [
    "data['frecuencia'].value_counts()"
   ]
  },
  {
   "cell_type": "code",
   "execution_count": 35,
   "metadata": {},
   "outputs": [],
   "source": [
    "# Copio colunna frecuencia en frecuencia_Original\n",
    "data['frecuencia_Original']=data['frecuencia']"
   ]
  },
  {
   "cell_type": "code",
   "execution_count": 36,
   "metadata": {},
   "outputs": [],
   "source": [
    "# Reemplazar los valores de la columna 'Frecuencia' con números\n",
    "data['frecuencia'] = data['frecuencia'].replace({\n",
    "#'3 veces a la semana':1,\n",
    " #'3 veces al día (8:00 - 15:00 - 22:00)':2,\n",
    "#'5 veces al día (6:00-10:00-14:00-18:00-22:00)':3,\n",
    "# '6:00 - 12:00 y 18:00':4,\n",
    "#'7:00 - 12:00 - 17:00 y 22:00':5,\n",
    "# '9:00 - 15:00 y 21:00':6,\n",
    " 'Cada 12 horas':2,\n",
    "'Cada 24 horas':1, \n",
    "#'Cada 4 días':9,\n",
    " 'Cada 4 horas':6,\n",
    " #'Cada 48 horas':11,\n",
    "'Cada 6 horas':4, \n",
    "#'Cada 72 horas':13,\n",
    " 'Cada 8 horas':3, \n",
    "#'Cada noche (21:00)':15,\n",
    "#'Con cada comida (8:00 - 12:30 - 18:00)':16,\n",
    " 'De rescate ':1,\n",
    " 'Dosis única':1,\n",
    "'Dosis única (17:00)':1,\n",
    " #'En ayunas (5:00)':20, \n",
    "#'Interdiaria':21, \n",
    "#'Semanal':22,\n",
    "'Sin Frecuencia':1,\n",
    " #'g':24\n",
    "})"
   ]
  },
  {
   "cell_type": "code",
   "execution_count": 41,
   "metadata": {},
   "outputs": [],
   "source": [
    "# Borro los datos de las frecuencias que no se van a tener en cuenta\n",
    "frecuencias=[1,2,3,4,6]\n",
    "data.drop(data[~data['frecuencia'].isin(frecuencias)].index,inplace=True)"
   ]
  },
  {
   "cell_type": "code",
   "execution_count": 43,
   "metadata": {},
   "outputs": [
    {
     "data": {
      "text/plain": [
       "frecuencia\n",
       "1    37479\n",
       "3    26222\n",
       "4     7575\n",
       "2     1214\n",
       "6      500\n",
       "Name: count, dtype: int64"
      ]
     },
     "execution_count": 43,
     "metadata": {},
     "output_type": "execute_result"
    }
   ],
   "source": [
    "data['frecuencia'].value_counts()"
   ]
  },
  {
   "cell_type": "code",
   "execution_count": 44,
   "metadata": {},
   "outputs": [
    {
     "name": "stdout",
     "output_type": "stream",
     "text": [
      "<class 'pandas.core.frame.DataFrame'>\n",
      "Index: 72990 entries, 0 to 87204\n",
      "Data columns (total 11 columns):\n",
      " #   Column               Non-Null Count  Dtype  \n",
      "---  ------               --------------  -----  \n",
      " 0   identificadorunico   72990 non-null  int64  \n",
      " 1   examenactividad      72990 non-null  object \n",
      " 2   dosis                72990 non-null  float64\n",
      " 3   unidad               72990 non-null  object \n",
      " 4   nombre_unidad        72990 non-null  object \n",
      " 5   duracion             72990 non-null  float64\n",
      " 6   frecuencia           72990 non-null  object \n",
      " 7   genero               72990 non-null  object \n",
      " 8   edad                 72990 non-null  int64  \n",
      " 9   dosisOriginal        72990 non-null  float64\n",
      " 10  frecuencia_Original  72990 non-null  object \n",
      "dtypes: float64(3), int64(2), object(6)\n",
      "memory usage: 6.7+ MB\n"
     ]
    }
   ],
   "source": [
    "data.info()"
   ]
  },
  {
   "cell_type": "code",
   "execution_count": 46,
   "metadata": {},
   "outputs": [],
   "source": [
    "data2=data[['examenactividad','frecuencia','dosis']].copy()"
   ]
  },
  {
   "cell_type": "code",
   "execution_count": 47,
   "metadata": {},
   "outputs": [],
   "source": [
    "data2.rename(columns={'examenactividad':'medication',\n",
    "                        'Frecuencia':'frecuency',\n",
    "                        'dosis':'dose'},\n",
    "                        inplace=True)"
   ]
  },
  {
   "cell_type": "code",
   "execution_count": 48,
   "metadata": {},
   "outputs": [],
   "source": [
    "data.to_csv('data/prescriptions_hptu_prep.csv',index=False)"
   ]
  }
 ],
 "metadata": {
  "kernelspec": {
   "display_name": "v_ML_python310",
   "language": "python",
   "name": "python3"
  },
  "language_info": {
   "codemirror_mode": {
    "name": "ipython",
    "version": 3
   },
   "file_extension": ".py",
   "mimetype": "text/x-python",
   "name": "python",
   "nbconvert_exporter": "python",
   "pygments_lexer": "ipython3",
   "version": "3.10.9"
  }
 },
 "nbformat": 4,
 "nbformat_minor": 2
}
